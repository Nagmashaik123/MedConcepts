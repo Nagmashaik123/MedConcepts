{
  "nbformat": 4,
  "nbformat_minor": 0,
  "metadata": {
    "colab": {
      "name": "CleanTweetsAndSaveAutoEvevry500.ipynb",
      "provenance": [],
      "authorship_tag": "ABX9TyN4j0Wl5caX8/8KAZ3uBXFZ",
      "include_colab_link": true
    },
    "kernelspec": {
      "name": "python3",
      "display_name": "Python 3"
    },
    "language_info": {
      "name": "python"
    }
  },
  "cells": [
    {
      "cell_type": "markdown",
      "metadata": {
        "id": "view-in-github",
        "colab_type": "text"
      },
      "source": [
        "<a href=\"https://colab.research.google.com/github/Nagmashaik123/MedConcepts/blob/main/CleanTweetsAndSaveAutoEvevry500.ipynb\" target=\"_parent\"><img src=\"https://colab.research.google.com/assets/colab-badge.svg\" alt=\"Open In Colab\"/></a>"
      ]
    },
    {
      "cell_type": "markdown",
      "metadata": {
        "id": "LiV9JrOL5lsM"
      },
      "source": [
        ""
      ]
    },
    {
      "cell_type": "code",
      "metadata": {
        "id": "9AdRFg_25V07"
      },
      "source": [
        "# dividing sinle Df frame to multiple data csv files\n",
        "\n",
        "import numpy as np\n",
        "\n",
        "for idx, chunk in enumerate(np.array_split(df, 6)):\n",
        "    chunk.to_csv(f'/content/Cl_{idx}.csv')"
      ],
      "execution_count": null,
      "outputs": []
    },
    {
      "cell_type": "code",
      "metadata": {
        "id": "yU7CakLa5Zub"
      },
      "source": [
        "import pandas as pd\n",
        "import re\n",
        "import nltk\n",
        "nltk.download('wordnet')\n",
        "nltk.download('punkt')\n",
        "from textblob import TextBlob\n",
        "\n",
        "df= pd.read_csv('FinalMedConcepts.csv')\n",
        "\n",
        "\n",
        "\n",
        "tweets = []\n",
        "cleanedtweets = []\n",
        "\n",
        "def writeTweets():\n",
        "    i = 20\n",
        "    j=0\n",
        "    try:\n",
        "        out_df = pd.read_csv('Final_Medical_Concepts.csv')\n",
        "\n",
        "        if 'CUID' in out_df:\n",
        "            if len(out_df['CUID'])==0:\n",
        "                j=1\n",
        "            else:\n",
        "                j=len(out_df['CUID'])+1\n",
        "    except FileNotFoundError:\n",
        "        #ignore\n",
        "        print(\"ignore\")\n",
        "\n",
        "    df_len=len(df[\"CUID\"])\n",
        "\n",
        "    while df_len>j:\n",
        "        if j==0:\n",
        "            j=j+1\n",
        "        reviews_df = pd.read_csv(\"FinalMedConcepts.csv\",skiprows=[k for k in range(1,j)], nrows=i )\n",
        "        reviews_df['linksremoved'] = reviews_df['TweetText'].str.replace('http\\S+|www.\\S+', '', case=False)\n",
        "        reviews_df[\"punctuationremoved\"] = reviews_df[\"linksremoved\"].str.replace('[^\\w\\s]', '')  # punctuation\n",
        "        reviews_df[\"lowercased\"] = reviews_df[\"punctuationremoved\"].apply(lambda x: \" \".join(x.lower() for x in x.split()))  # D\n",
        "        reviews_df[\"spellings\"] = reviews_df[\"lowercased\"].apply(lambda x: str(TextBlob(x).correct()))  # spellings\n",
        "        # reviews_df[\"spellings\"] =''\n",
        "        cleaned = []\n",
        "        for line in reviews_df[\"lowercased\"]:\n",
        "            emoji_pattern = re.compile(\"[\"u\"\\U0001F600-\\U0001F64F\"  # emoticons\n",
        "                                        u\"\\U0001F300-\\U0001F5FF\"  # symbols & pictographs\n",
        "                                        u\"\\U0001F680-\\U0001F6FF\"  # transport & map symbols\n",
        "                                        u\"\\U0001F1E0-\\U0001F1FF\"  # flags (iOS)Final_Medical_Concepts.csv\n",
        "                                        \"]+\", flags=re.UNICODE)\n",
        "            cleaned.append(emoji_pattern.sub(r'', line))\n",
        "        reviews_df[\"cleanedtweets\"] = cleaned\n",
        "        reviews_df.to_csv('Final_Medical_Concepts.csv', mode='a', header=False)\n",
        "        j=j+i\n",
        "\n",
        "\n",
        "writeTweets()"
      ],
      "execution_count": null,
      "outputs": []
    }
  ]
}