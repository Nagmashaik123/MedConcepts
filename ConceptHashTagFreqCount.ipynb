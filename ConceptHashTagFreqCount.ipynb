{
  "nbformat": 4,
  "nbformat_minor": 0,
  "metadata": {
    "colab": {
      "name": "ConceptHashTagFreqCount.ipynb",
      "provenance": [],
      "authorship_tag": "ABX9TyOiAGxlddYw3vUvihVJCtTU",
      "include_colab_link": true
    },
    "kernelspec": {
      "name": "python3",
      "display_name": "Python 3"
    },
    "language_info": {
      "name": "python"
    }
  },
  "cells": [
    {
      "cell_type": "markdown",
      "metadata": {
        "id": "view-in-github",
        "colab_type": "text"
      },
      "source": [
        "<a href=\"https://colab.research.google.com/github/Nagmashaik123/MedConcepts/blob/main/ConceptHashTagFreqCount.ipynb\" target=\"_parent\"><img src=\"https://colab.research.google.com/assets/colab-badge.svg\" alt=\"Open In Colab\"/></a>"
      ]
    },
    {
      "cell_type": "code",
      "metadata": {
        "id": "JRN2JUxWsXzB"
      },
      "source": [
        "import pandas as pd\n",
        "df=pd.read_csv('MedicalDyfunctions.csv')\n",
        "df.drop(df.columns[df.columns.str.contains('unnamed',case = False)],axis = 1, inplace = True)\n",
        "df"
      ],
      "execution_count": null,
      "outputs": []
    },
    {
      "cell_type": "code",
      "metadata": {
        "id": "_-vfqkSRscPr"
      },
      "source": [
        "dataFrame=df[['CUID','Concept','HashTags']]\n",
        "dataFrame = dataFrame.dropna()\n",
        "\n",
        "dataFrame.reset_index(drop=True)"
      ],
      "execution_count": null,
      "outputs": []
    },
    {
      "cell_type": "code",
      "metadata": {
        "id": "t5b_b5AZseyr"
      },
      "source": [
        "dictValue=dataFrame.to_dict('records')\n",
        "dictValue"
      ],
      "execution_count": null,
      "outputs": []
    },
    {
      "cell_type": "code",
      "metadata": {
        "id": "6uVtKBXoshY_"
      },
      "source": [
        "with open(\"testJson.json\", \"w\") as outfile: \n",
        "    json.dump(dictValue, outfile)"
      ],
      "execution_count": null,
      "outputs": []
    },
    {
      "cell_type": "code",
      "metadata": {
        "id": "PBOs9C91NYNk",
        "outputId": "9ca29a5d-c16a-4f7a-d53c-5e77f0dcd89e",
        "colab": {
          "base_uri": "https://localhost:8080/"
        }
      },
      "source": [
        "import json\n",
        "import csv\n",
        "import glob\n",
        "\n",
        "jsonList = [{\"CUID\": \"C0002884\", \"Concept\": \"Hypochromic anemia\", \"HashTags\": \"hypochromicanemia,, natural,, healthcare,, chlorosis,, anemia\"},\n",
        "            {\"CUID\": \"C0002884\", \"Concept\": \"Hypochromic anemia\", \"HashTags\": \"HypochromicAnemia\"},\n",
        "            {\"CUID\": \"C0002884\", \"Concept\": \"Hypochromic anemia\", \"HashTags\": \"Chlorosis, TheHulk, HypochromicAnemia\"},\n",
        "            {\"CUID\": \"C0014431\", \"Concept\": \"Enzyme Induction\", \"HashTags\": \"enzymeinduction, hangovercure\"},\n",
        "            {\"CUID\": \"C0014431\", \"Concept\": \"Enzyme Induction\", \"HashTags\": \"enzymeinduction, hangovercure\"},\n",
        "            {\"CUID\": \"C0014431\", \"Concept\": \"Enzyme Induction\", \"HashTags\": \"CholesterolLowering, EnzymeInduction\"}]\n",
        "\n",
        "dictConcept={}\n",
        "\n",
        "def conceptHashTagCount():\n",
        "    for eachJson in jsonList:\n",
        "        concept= eachJson['Concept']\n",
        "        hashTags=eachJson['HashTags']\n",
        "        if concept not in dictConcept.keys():\n",
        "            dictHashTags={}\n",
        "            dictConcept[concept]=getdictHashTags(hashTags,dictHashTags)\n",
        "        else:\n",
        "            existingHashTagDic = dictConcept[concept]\n",
        "            dictConcept[concept]=getdictHashTags(hashTags,existingHashTagDic)\n",
        "def getdictHashTags(hashTags,dictHashTags):\n",
        "    # print(hashTags)\n",
        "\n",
        "    hashTagList = hashTags.split(', ')\n",
        "    for hashTag in hashTagList:\n",
        "        hashTag=hashTag.lower()\n",
        "        if hashTag.endswith(','):\n",
        "            hashTag=hashTag[:-1]\n",
        "\n",
        "        if hashTag not in dictHashTags.keys():\n",
        "            dictHashTags[hashTag] = 1\n",
        "        else:\n",
        "            dictHashTags[hashTag] = dictHashTags[hashTag] + 1\n",
        "    return dictHashTags\n",
        "\n",
        "\n",
        "\n",
        "conceptHashTagCount()\n",
        "dictConcept"
      ],
      "execution_count": 2,
      "outputs": [
        {
          "output_type": "execute_result",
          "data": {
            "text/plain": [
              "{'Enzyme Induction': {'cholesterollowering': 1,\n",
              "  'enzymeinduction': 3,\n",
              "  'hangovercure': 2},\n",
              " 'Hypochromic anemia': {'anemia': 1,\n",
              "  'chlorosis': 2,\n",
              "  'healthcare': 1,\n",
              "  'hypochromicanemia': 3,\n",
              "  'natural': 1,\n",
              "  'thehulk': 1}}"
            ]
          },
          "metadata": {
            "tags": []
          },
          "execution_count": 2
        }
      ]
    }
  ]
}