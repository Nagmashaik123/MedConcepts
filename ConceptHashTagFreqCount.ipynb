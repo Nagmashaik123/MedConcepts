{
  "nbformat": 4,
  "nbformat_minor": 0,
  "metadata": {
    "colab": {
      "name": "ConceptHashTagFreqCount.ipynb",
      "provenance": [],
      "authorship_tag": "ABX9TyNXJtBP39gdJMQ7cj7JhMAi",
      "include_colab_link": true
    },
    "kernelspec": {
      "name": "python3",
      "display_name": "Python 3"
    },
    "language_info": {
      "name": "python"
    }
  },
  "cells": [
    {
      "cell_type": "markdown",
      "metadata": {
        "id": "view-in-github",
        "colab_type": "text"
      },
      "source": [
        "<a href=\"https://colab.research.google.com/github/Nagmashaik123/MedConcepts/blob/main/ConceptHashTagFreqCount.ipynb\" target=\"_parent\"><img src=\"https://colab.research.google.com/assets/colab-badge.svg\" alt=\"Open In Colab\"/></a>"
      ]
    },
    {
      "cell_type": "code",
      "metadata": {
        "id": "JRN2JUxWsXzB"
      },
      "source": [
        "import pandas as pd\n",
        "df=pd.read_csv('MedicalDyfunctions.csv')\n",
        "df.drop(df.columns[df.columns.str.contains('unnamed',case = False)],axis = 1, inplace = True)\n",
        "df"
      ],
      "execution_count": null,
      "outputs": []
    },
    {
      "cell_type": "code",
      "metadata": {
        "id": "_-vfqkSRscPr"
      },
      "source": [
        "dataFrame=df[['CUID','Concept','HashTags']]\n",
        "dataFrame = dataFrame.dropna()\n",
        "\n",
        "dataFrame.reset_index(drop=True)"
      ],
      "execution_count": null,
      "outputs": []
    },
    {
      "cell_type": "code",
      "metadata": {
        "id": "t5b_b5AZseyr"
      },
      "source": [
        "dictValue=dataFrame.to_dict('records')\n",
        "dictValue"
      ],
      "execution_count": null,
      "outputs": []
    },
    {
      "cell_type": "code",
      "metadata": {
        "id": "6uVtKBXoshY_"
      },
      "source": [
        "with open(\"testJson.json\", \"w\") as outfile: \n",
        "    json.dump(dictValue, outfile)"
      ],
      "execution_count": null,
      "outputs": []
    },
    {
      "cell_type": "code",
      "metadata": {
        "id": "PBOs9C91NYNk",
        "colab": {
          "base_uri": "https://localhost:8080/"
        },
        "outputId": "acf8c391-3fa3-4680-d02c-5f37950d128c"
      },
      "source": [
        "import json\n",
        "import csv\n",
        "import glob\n",
        "\n",
        "jsonList = [{\"CUID\": \"C0002884\", \"Concept\": \"Hypochromic anemia\", \"HashTags\": \"hypochromicanemia,, natural,, healthcare,, chlorosis,, anemia\"},\n",
        "            {\"CUID\": \"C0002884\", \"Concept\": \"Hypochromic anemia\", \"HashTags\": \"HypochromicAnemia\"},\n",
        "            {\"CUID\": \"C0002884\", \"Concept\": \"Hypochromic anemia\", \"HashTags\": \"Chlorosis, TheHulk, HypochromicAnemia\"},\n",
        "            {\"CUID\": \"C0014431\", \"Concept\": \"Enzyme Induction\", \"HashTags\": \"enzymeinduction, hangovercure\"},\n",
        "            {\"CUID\": \"C0014431\", \"Concept\": \"Enzyme Induction\", \"HashTags\": \"enzymeinduction, hangovercure\"},\n",
        "            {\"CUID\": \"C0014431\", \"Concept\": \"Enzyme Induction\", \"HashTags\": \"CholesterolLowering, EnzymeInduction\"}]\n",
        "\n",
        "dictConcept={}\n",
        "\n",
        "def conceptHashTagCount():\n",
        "    for eachJson in jsonList:\n",
        "        concept= eachJson['Concept']\n",
        "        hashTags=eachJson['HashTags']\n",
        "        if concept not in dictConcept.keys():\n",
        "            dictHashTags={}\n",
        "            dictConcept[concept]=getdictHashTags(hashTags,dictHashTags)\n",
        "        else:\n",
        "            existingHashTagDic = dictConcept[concept]\n",
        "            dictConcept[concept]=getdictHashTags(hashTags,existingHashTagDic)\n",
        "def getdictHashTags(hashTags,dictHashTags):\n",
        "    # print(hashTags)\n",
        "\n",
        "    hashTagList = hashTags.split(', ')\n",
        "    for hashTag in hashTagList:\n",
        "        hashTag=hashTag.lower()\n",
        "        if hashTag.endswith(','):\n",
        "            hashTag=hashTag[:-1]\n",
        "\n",
        "        if hashTag not in dictHashTags.keys():\n",
        "            dictHashTags[hashTag] = 1\n",
        "        else:\n",
        "            dictHashTags[hashTag] = dictHashTags[hashTag] + 1\n",
        "    return dictHashTags\n",
        "\n",
        "\n",
        "\n",
        "conceptHashTagCount()\n",
        "dictConcept"
      ],
      "execution_count": 19,
      "outputs": [
        {
          "output_type": "execute_result",
          "data": {
            "text/plain": [
              "{'Enzyme Induction': {'cholesterollowering': 1,\n",
              "  'enzymeinduction': 3,\n",
              "  'hangovercure': 2},\n",
              " 'Hypochromic anemia': {'anemia': 1,\n",
              "  'chlorosis': 2,\n",
              "  'healthcare': 1,\n",
              "  'hypochromicanemia': 3,\n",
              "  'natural': 1,\n",
              "  'thehulk': 1}}"
            ]
          },
          "metadata": {
            "tags": []
          },
          "execution_count": 19
        }
      ]
    },
    {
      "cell_type": "code",
      "metadata": {
        "id": "K8rkMg0ql3eQ",
        "colab": {
          "base_uri": "https://localhost:8080/",
          "height": 328
        },
        "outputId": "87092678-90b4-45dd-b1fa-8c9ebf5f1174"
      },
      "source": [
        "import pandas as pd\n",
        "rows=[]\n",
        "# appending rows\n",
        "for concept, hashDict in dictConcept.items():\n",
        "    for hashTag in hashDict.keys():\n",
        "        row = {}\n",
        "        row['Concept']=concept\n",
        "        row['HashTag']=hashTag\n",
        "        row['Frequency']=hashDict[hashTag]\n",
        "        rows.append(row)\n",
        "\n",
        "# using data frame\n",
        "df = pd.DataFrame(rows)\n",
        "df"
      ],
      "execution_count": 20,
      "outputs": [
        {
          "output_type": "execute_result",
          "data": {
            "text/html": [
              "<div>\n",
              "<style scoped>\n",
              "    .dataframe tbody tr th:only-of-type {\n",
              "        vertical-align: middle;\n",
              "    }\n",
              "\n",
              "    .dataframe tbody tr th {\n",
              "        vertical-align: top;\n",
              "    }\n",
              "\n",
              "    .dataframe thead th {\n",
              "        text-align: right;\n",
              "    }\n",
              "</style>\n",
              "<table border=\"1\" class=\"dataframe\">\n",
              "  <thead>\n",
              "    <tr style=\"text-align: right;\">\n",
              "      <th></th>\n",
              "      <th>Concept</th>\n",
              "      <th>HashTag</th>\n",
              "      <th>Frequency</th>\n",
              "    </tr>\n",
              "  </thead>\n",
              "  <tbody>\n",
              "    <tr>\n",
              "      <th>0</th>\n",
              "      <td>Hypochromic anemia</td>\n",
              "      <td>hypochromicanemia</td>\n",
              "      <td>3</td>\n",
              "    </tr>\n",
              "    <tr>\n",
              "      <th>1</th>\n",
              "      <td>Hypochromic anemia</td>\n",
              "      <td>natural</td>\n",
              "      <td>1</td>\n",
              "    </tr>\n",
              "    <tr>\n",
              "      <th>2</th>\n",
              "      <td>Hypochromic anemia</td>\n",
              "      <td>healthcare</td>\n",
              "      <td>1</td>\n",
              "    </tr>\n",
              "    <tr>\n",
              "      <th>3</th>\n",
              "      <td>Hypochromic anemia</td>\n",
              "      <td>chlorosis</td>\n",
              "      <td>2</td>\n",
              "    </tr>\n",
              "    <tr>\n",
              "      <th>4</th>\n",
              "      <td>Hypochromic anemia</td>\n",
              "      <td>anemia</td>\n",
              "      <td>1</td>\n",
              "    </tr>\n",
              "    <tr>\n",
              "      <th>5</th>\n",
              "      <td>Hypochromic anemia</td>\n",
              "      <td>thehulk</td>\n",
              "      <td>1</td>\n",
              "    </tr>\n",
              "    <tr>\n",
              "      <th>6</th>\n",
              "      <td>Enzyme Induction</td>\n",
              "      <td>enzymeinduction</td>\n",
              "      <td>3</td>\n",
              "    </tr>\n",
              "    <tr>\n",
              "      <th>7</th>\n",
              "      <td>Enzyme Induction</td>\n",
              "      <td>hangovercure</td>\n",
              "      <td>2</td>\n",
              "    </tr>\n",
              "    <tr>\n",
              "      <th>8</th>\n",
              "      <td>Enzyme Induction</td>\n",
              "      <td>cholesterollowering</td>\n",
              "      <td>1</td>\n",
              "    </tr>\n",
              "  </tbody>\n",
              "</table>\n",
              "</div>"
            ],
            "text/plain": [
              "              Concept              HashTag  Frequency\n",
              "0  Hypochromic anemia    hypochromicanemia          3\n",
              "1  Hypochromic anemia              natural          1\n",
              "2  Hypochromic anemia           healthcare          1\n",
              "3  Hypochromic anemia            chlorosis          2\n",
              "4  Hypochromic anemia               anemia          1\n",
              "5  Hypochromic anemia              thehulk          1\n",
              "6    Enzyme Induction      enzymeinduction          3\n",
              "7    Enzyme Induction         hangovercure          2\n",
              "8    Enzyme Induction  cholesterollowering          1"
            ]
          },
          "metadata": {
            "tags": []
          },
          "execution_count": 20
        }
      ]
    },
    {
      "cell_type": "code",
      "metadata": {
        "id": "tSngCt7K0vW2",
        "colab": {
          "base_uri": "https://localhost:8080/",
          "height": 395
        },
        "outputId": "308bd338-3e8d-4b06-d303-a4be8f23d21e"
      },
      "source": [
        "# importing package\n",
        "import matplotlib.pyplot as plt\n",
        "import pandas as pd\n",
        "  \n",
        "# create data\n",
        "df = pd.DataFrame([['A', 10, 20, 10, 30], ['B', 20, 25, 15, 25], ['C', 12, 15, 19, 6],\n",
        "                   ['D', 10, 29, 13, 19]],\n",
        "                  columns=['Team', 'Round 1', 'Round 2', 'Round 3', 'Round 4'])\n",
        "# view data\n",
        "print(df)\n",
        "  \n",
        "# plot grouped bar chart\n",
        "df.plot(x='Team',\n",
        "        kind='bar',\n",
        "        stacked=False,\n",
        "        title='Grouped Bar Graph with dataframe')\n"
      ],
      "execution_count": null,
      "outputs": [
        {
          "output_type": "stream",
          "text": [
            "  Team  Round 1  Round 2  Round 3  Round 4\n",
            "0    A       10       20       10       30\n",
            "1    B       20       25       15       25\n",
            "2    C       12       15       19        6\n",
            "3    D       10       29       13       19\n"
          ],
          "name": "stdout"
        },
        {
          "output_type": "execute_result",
          "data": {
            "text/plain": [
              "<matplotlib.axes._subplots.AxesSubplot at 0x7f62059aecd0>"
            ]
          },
          "metadata": {
            "tags": []
          },
          "execution_count": 20
        },
        {
          "output_type": "display_data",
          "data": {
            "image/png": "[encoded data removed]",
            "text/plain": [
              "<Figure size 432x288 with 1 Axes>"
            ]
          },
          "metadata": {
            "tags": [],
            "needs_background": "light"
          }
        }
      ]
    }
  ]
}