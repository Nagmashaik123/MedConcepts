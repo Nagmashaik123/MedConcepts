{
  "nbformat": 4,
  "nbformat_minor": 0,
  "metadata": {
    "colab": {
      "name": "ConceptHashTagFreqCount.ipynb",
      "provenance": [],
      "authorship_tag": "ABX9TyN9e0YTflsUtdSxFAVFU8n5",
      "include_colab_link": true
    },
    "kernelspec": {
      "name": "python3",
      "display_name": "Python 3"
    },
    "language_info": {
      "name": "python"
    }
  },
  "cells": [
    {
      "cell_type": "markdown",
      "metadata": {
        "id": "view-in-github",
        "colab_type": "text"
      },
      "source": [
        "<a href=\"https://colab.research.google.com/github/Nagmashaik123/MedConcepts/blob/main/ConceptHashTagFreqCount.ipynb\" target=\"_parent\"><img src=\"https://colab.research.google.com/assets/colab-badge.svg\" alt=\"Open In Colab\"/></a>"
      ]
    },
    {
      "cell_type": "code",
      "metadata": {
        "id": "JRN2JUxWsXzB"
      },
      "source": [
        "import pandas as pd\n",
        "df=pd.read_csv('MedicalDyfunctions.csv')\n",
        "df.drop(df.columns[df.columns.str.contains('unnamed',case = False)],axis = 1, inplace = True)\n",
        "df"
      ],
      "execution_count": null,
      "outputs": []
    },
    {
      "cell_type": "code",
      "metadata": {
        "id": "_-vfqkSRscPr"
      },
      "source": [
        "dataFrame=df[['CUID','Concept','HashTags']]\n",
        "dataFrame = dataFrame.dropna()\n",
        "\n",
        "dataFrame.reset_index(drop=True)"
      ],
      "execution_count": null,
      "outputs": []
    },
    {
      "cell_type": "code",
      "metadata": {
        "id": "t5b_b5AZseyr"
      },
      "source": [
        "dictValue=dataFrame.to_dict('records')\n",
        "dictValue"
      ],
      "execution_count": null,
      "outputs": []
    },
    {
      "cell_type": "code",
      "metadata": {
        "id": "6uVtKBXoshY_"
      },
      "source": [
        "with open(\"testJson.json\", \"w\") as outfile: \n",
        "    json.dump(dictValue, outfile)"
      ],
      "execution_count": null,
      "outputs": []
    }
  ]
}