{
  "nbformat": 4,
  "nbformat_minor": 0,
  "metadata": {
    "colab": {
      "name": "Untitled52.ipynb",
      "provenance": [],
      "authorship_tag": "ABX9TyPVcsfN+BFOu/+Pn6xxQQxb",
      "include_colab_link": true
    },
    "kernelspec": {
      "name": "python3",
      "display_name": "Python 3"
    },
    "language_info": {
      "name": "python"
    }
  },
  "cells": [
    {
      "cell_type": "markdown",
      "metadata": {
        "id": "view-in-github",
        "colab_type": "text"
      },
      "source": [
        "<a href=\"https://colab.research.google.com/github/Nagmashaik123/MedConcepts/blob/main/DataJsonToCSV.ipynb\" target=\"_parent\"><img src=\"https://colab.research.google.com/assets/colab-badge.svg\" alt=\"Open In Colab\"/></a>"
      ]
    },
    {
      "cell_type": "code",
      "metadata": {
        "id": "f_FjaqWko5eT"
      },
      "source": [
        "import json\n",
        "import csv\n",
        "import glob\n",
        "\n",
        "import collections\n",
        "\n",
        "\n",
        "\n",
        "finalList = []\n",
        "extension = 'json'\n",
        "def writeTweetData():\n",
        "    fileName='GuerraContraLasDrogas'\n",
        "    with open('%s.csv' % (fileName), 'w') as file:\n",
        "        w = csv.writer(file)\n",
        "        w.writerow(['HashTag', 'AuthorID', 'TweetText', 'CreatedDate', 'Country', 'Language'])\n",
        "        all_filenames = [i for i in glob.glob('*.{}'.format(extension))]\n",
        "        for eachFile in all_filenames:\n",
        "            dyfunctionfile = open(eachFile)\n",
        "            jsonList = json.load(dyfunctionfile)\n",
        "            global dataList\n",
        "            for eachJson in jsonList:\n",
        "                hashTag = eachJson['hashtag'][1:]\n",
        "                tweet_data = eachJson['tweets']['data']\n",
        "                if eachJson['tweets'].__contains__('includes'):\n",
        "                    placesDict = eachJson['tweets']['includes']\n",
        "                    placeList=placesDict['places']\n",
        "                for each_tweet_data in tweet_data:\n",
        "                    author_id = each_tweet_data['author_id']\n",
        "                    text = each_tweet_data['text']\n",
        "                    lang = each_tweet_data['lang']\n",
        "                    created_at = each_tweet_data['created_at']\n",
        "                    if each_tweet_data.__contains__('geo'):\n",
        "                        placeId = each_tweet_data['geo']['place_id']\n",
        "                        for eachPlace in placeList:\n",
        "                            if eachPlace['id']==placeId:\n",
        "                                country=eachPlace['country']\n",
        "                    else:\n",
        "                        country=\"\"\n",
        "                    tweet_data_dic = {\n",
        "                        \"HashTag\": hashTag,\n",
        "                        \"AuthorID\": author_id,\n",
        "                        \"TweetText\": text,\n",
        "                        \"Language\":lang,\n",
        "                        \"Country\":country,\n",
        "                        \"CreatedDate\": created_at\n",
        "                    }\n",
        "                    if 'en' in lang and not text.startswith('RT '):\n",
        "                        if len(finalList) != 0:\n",
        "                            exists = is_tweet_exists(finalList,tweet_data_dic)\n",
        "                            finalList.append(tweet_data_dic)\n",
        "                            w.writerow([tweet_data_dic['HashTag'], tweet_data_dic['AuthorID'],tweet_data_dic['TweetText'],tweet_data_dic['CreatedDate'], tweet_data_dic['Country'], tweet_data_dic['Language']])\n",
        "                        else:\n",
        "                            finalList.append(tweet_data_dic)\n",
        "                            w.writerow([tweet_data_dic['HashTag'], tweet_data_dic['AuthorID'],tweet_data_dic['TweetText'],tweet_data_dic['CreatedDate'], tweet_data_dic['Country'], tweet_data_dic['Language']])\n",
        "\n",
        "\n",
        "\n",
        "def is_tweet_exists(finalList, tweet_data_dic):\n",
        "    for dict in finalList:\n",
        "        if (tweet_data_dic['HashTag'] == dict['HashTag']) and (tweet_data_dic['AuthorID'] == dict['AuthorID']) and (tweet_data_dic['TweetText'] == dict['TweetText']) and (tweet_data_dic['CreatedDate'] == dict['CreatedDate']):\n",
        "            return True\n",
        "    return False\n",
        "\n",
        "\n",
        "writeTweetData()\n",
        "\n",
        "\n",
        "\n"
      ],
      "execution_count": null,
      "outputs": []
    }
  ]
}