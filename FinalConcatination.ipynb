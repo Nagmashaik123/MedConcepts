{
  "nbformat": 4,
  "nbformat_minor": 0,
  "metadata": {
    "colab": {
      "name": "FinalConcatination.ipynb",
      "provenance": [],
      "authorship_tag": "ABX9TyNiVurhx9VZpwitbEo0TWFW",
      "include_colab_link": true
    },
    "kernelspec": {
      "name": "python3",
      "display_name": "Python 3"
    },
    "language_info": {
      "name": "python"
    }
  },
  "cells": [
    {
      "cell_type": "markdown",
      "metadata": {
        "id": "view-in-github",
        "colab_type": "text"
      },
      "source": [
        "<a href=\"https://colab.research.google.com/github/Nagmashaik123/MedConcepts/blob/main/FinalConcatination.ipynb\" target=\"_parent\"><img src=\"https://colab.research.google.com/assets/colab-badge.svg\" alt=\"Open In Colab\"/></a>"
      ]
    },
    {
      "cell_type": "code",
      "metadata": {
        "id": "r7H5OdSGlOgY"
      },
      "source": [
        "dict = {'First Name': 'Name',\n",
        "        'Location': 'City',\n",
        "        'Pay': 'Salary'}\n",
        "  \n",
        "# call rename () method\n",
        "df.rename(columns=dict,\n",
        "          inplace=True)\n",
        "  \n",
        "# print Data frame after rename columns\n",
        "display(df)"
      ],
      "execution_count": null,
      "outputs": []
    },
    {
      "cell_type": "code",
      "metadata": {
        "id": "XmCneM8BlTTm"
      },
      "source": [
        "# drop columns \n",
        "df.drop(['C', 'D'], axis = 1)"
      ],
      "execution_count": null,
      "outputs": []
    },
    {
      "cell_type": "code",
      "metadata": {
        "id": "wj7CACEplno5"
      },
      "source": [
        "# concatinating files\n",
        "import os\n",
        "import glob\n",
        "import pandas as pd\n",
        "os.chdir(\"/content\")\n",
        "\n",
        "extension = 'csv'\n",
        "all_filenames = [i for i in glob.glob('*.{}'.format(extension))]\n",
        "\n",
        "#combine all files in the list\n",
        "dataFrame = pd.concat([pd.read_csv(f) for f in all_filenames ])\n",
        "#export to csv\n",
        "dataFrame.to_csv( \"finalMedicalConcepts.csv\", index=False, encoding='utf-8-sig')\n",
        "dataFrame"
      ],
      "execution_count": null,
      "outputs": []
    },
    {
      "cell_type": "code",
      "metadata": {
        "id": "7DiwriiumJj9"
      },
      "source": [
        "# Dropping unnamed columns\n",
        "df.drop(df.columns[df.columns.str.contains('unnamed',case = False)],axis = 1, inplace = True)"
      ],
      "execution_count": null,
      "outputs": []
    }
  ]
}