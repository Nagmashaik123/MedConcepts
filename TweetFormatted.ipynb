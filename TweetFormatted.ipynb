{
  "nbformat": 4,
  "nbformat_minor": 0,
  "metadata": {
    "colab": {
      "name": "TweetFormatted.ipynb",
      "provenance": [],
      "collapsed_sections": [],
      "authorship_tag": "ABX9TyNxt5apiQhPv1t5BTtPQgVJ",
      "include_colab_link": true
    },
    "kernelspec": {
      "name": "python3",
      "display_name": "Python 3"
    },
    "language_info": {
      "name": "python"
    }
  },
  "cells": [
    {
      "cell_type": "markdown",
      "metadata": {
        "id": "view-in-github",
        "colab_type": "text"
      },
      "source": [
        "<a href=\"https://colab.research.google.com/github/Nagmashaik123/MedConcepts/blob/main/TweetFormatted.ipynb\" target=\"_parent\"><img src=\"https://colab.research.google.com/assets/colab-badge.svg\" alt=\"Open In Colab\"/></a>"
      ]
    },
    {
      "cell_type": "code",
      "metadata": {
        "colab": {
          "base_uri": "https://localhost:8080/"
        },
        "id": "GuBBolEc7lFp",
        "outputId": "e61c0e44-cffc-44de-aeca-4d7e394d8985"
      },
      "source": [
        "import json\n",
        "import csv\n",
        "import collections\n",
        "\n",
        "\n",
        "\n",
        "dataList = []\n",
        "def writeTweetData():\n",
        "    dyfunctionfile = open('MedicalDyfunctions.json')\n",
        "    jsonList = json.load(dyfunctionfile)\n",
        "    print(jsonList)\n",
        "    global dataList\n",
        "    fileName = 'MedicalConcepts'\n",
        "    with open('%s.csv' % (fileName), 'w') as file:\n",
        "        w = csv.writer(file)\n",
        "        w.writerow(['ID', 'Concept', 'AuthorID', 'TweetText', 'CreatedDate'])\n",
        "        for jsonData in jsonList:\n",
        "            for jsonKey, jsonValues in jsonData.items():\n",
        "                dataList = jsonData['tweets']['data']\n",
        "                for data in dataList:\n",
        "                    for key, value in data.items():\n",
        "                        authorID  = data['author_id']\n",
        "                        textData  = data['text']\n",
        "                        createdDt = data['created_at']\n",
        "                        w.writerow([jsonData['cui'], jsonData['concepts'], authorID, textData, createdDt])\n",
        "\n",
        "\n",
        "writeTweetData()"
      ],
      "execution_count": 6,
      "outputs": [
        {
          "output_type": "stream",
          "text": [
            "IOPub data rate exceeded.\n",
            "The notebook server will temporarily stop sending output\n",
            "to the client in order to avoid crashing it.\n",
            "To change this limit, set the config variable\n",
            "`--NotebookApp.iopub_data_rate_limit`.\n",
            "\n",
            "Current values:\n",
            "NotebookApp.iopub_data_rate_limit=1000000.0 (bytes/sec)\n",
            "NotebookApp.rate_limit_window=3.0 (secs)\n",
            "\n"
          ],
          "name": "stderr"
        }
      ]
    },
    {
      "cell_type": "code",
      "metadata": {
        "id": "I7wMsyrb75FH",
        "colab": {
          "base_uri": "https://localhost:8080/",
          "height": 589
        },
        "outputId": "2a2ddff7-1fe2-4252-98fe-83b9714cfbf8"
      },
      "source": [
        "import pandas as pd\n",
        "df=pd.read_csv(r\"MedicalConcepts.csv\")\n",
        "df"
      ],
      "execution_count": 7,
      "outputs": [
        {
          "output_type": "execute_result",
          "data": {
            "text/html": [
              "<div>\n",
              "<style scoped>\n",
              "    .dataframe tbody tr th:only-of-type {\n",
              "        vertical-align: middle;\n",
              "    }\n",
              "\n",
              "    .dataframe tbody tr th {\n",
              "        vertical-align: top;\n",
              "    }\n",
              "\n",
              "    .dataframe thead th {\n",
              "        text-align: right;\n",
              "    }\n",
              "</style>\n",
              "<table border=\"1\" class=\"dataframe\">\n",
              "  <thead>\n",
              "    <tr style=\"text-align: right;\">\n",
              "      <th></th>\n",
              "      <th>ID</th>\n",
              "      <th>Concept</th>\n",
              "      <th>AuthorID</th>\n",
              "      <th>TweetText</th>\n",
              "      <th>CreatedDate</th>\n",
              "    </tr>\n",
              "  </thead>\n",
              "  <tbody>\n",
              "    <tr>\n",
              "      <th>0</th>\n",
              "      <td>C0003123</td>\n",
              "      <td>Anorexia</td>\n",
              "      <td>1399574560601673728</td>\n",
              "      <td>switch the v and the r and even Instagram ads ...</td>\n",
              "      <td>2021-06-25T23:44:49.000Z</td>\n",
              "    </tr>\n",
              "    <tr>\n",
              "      <th>1</th>\n",
              "      <td>C0003123</td>\n",
              "      <td>Anorexia</td>\n",
              "      <td>1399574560601673728</td>\n",
              "      <td>switch the v and the r and even Instagram ads ...</td>\n",
              "      <td>2021-06-25T23:44:49.000Z</td>\n",
              "    </tr>\n",
              "    <tr>\n",
              "      <th>2</th>\n",
              "      <td>C0003123</td>\n",
              "      <td>Anorexia</td>\n",
              "      <td>1399574560601673728</td>\n",
              "      <td>switch the v and the r and even Instagram ads ...</td>\n",
              "      <td>2021-06-25T23:44:49.000Z</td>\n",
              "    </tr>\n",
              "    <tr>\n",
              "      <th>3</th>\n",
              "      <td>C0003123</td>\n",
              "      <td>Anorexia</td>\n",
              "      <td>1399574560601673728</td>\n",
              "      <td>switch the v and the r and even Instagram ads ...</td>\n",
              "      <td>2021-06-25T23:44:49.000Z</td>\n",
              "    </tr>\n",
              "    <tr>\n",
              "      <th>4</th>\n",
              "      <td>C0003123</td>\n",
              "      <td>Anorexia</td>\n",
              "      <td>1399574560601673728</td>\n",
              "      <td>switch the v and the r and even Instagram ads ...</td>\n",
              "      <td>2021-06-25T23:44:49.000Z</td>\n",
              "    </tr>\n",
              "    <tr>\n",
              "      <th>...</th>\n",
              "      <td>...</td>\n",
              "      <td>...</td>\n",
              "      <td>...</td>\n",
              "      <td>...</td>\n",
              "      <td>...</td>\n",
              "    </tr>\n",
              "    <tr>\n",
              "      <th>373165</th>\n",
              "      <td>C0231230</td>\n",
              "      <td>Fatigability</td>\n",
              "      <td>300536976</td>\n",
              "      <td>#fatigability</td>\n",
              "      <td>2012-01-21T17:25:08.000Z</td>\n",
              "    </tr>\n",
              "    <tr>\n",
              "      <th>373166</th>\n",
              "      <td>C0231230</td>\n",
              "      <td>Fatigability</td>\n",
              "      <td>300536976</td>\n",
              "      <td>#fatigability</td>\n",
              "      <td>2012-01-21T17:25:08.000Z</td>\n",
              "    </tr>\n",
              "    <tr>\n",
              "      <th>373167</th>\n",
              "      <td>C0231230</td>\n",
              "      <td>Fatigability</td>\n",
              "      <td>300536976</td>\n",
              "      <td>#fatigability</td>\n",
              "      <td>2012-01-21T17:25:08.000Z</td>\n",
              "    </tr>\n",
              "    <tr>\n",
              "      <th>373168</th>\n",
              "      <td>C0231230</td>\n",
              "      <td>Fatigability</td>\n",
              "      <td>300536976</td>\n",
              "      <td>#fatigability</td>\n",
              "      <td>2012-01-21T17:25:08.000Z</td>\n",
              "    </tr>\n",
              "    <tr>\n",
              "      <th>373169</th>\n",
              "      <td>C0231230</td>\n",
              "      <td>Fatigability</td>\n",
              "      <td>300536976</td>\n",
              "      <td>#fatigability</td>\n",
              "      <td>2012-01-21T17:25:08.000Z</td>\n",
              "    </tr>\n",
              "  </tbody>\n",
              "</table>\n",
              "<p>373170 rows × 5 columns</p>\n",
              "</div>"
            ],
            "text/plain": [
              "              ID  ...               CreatedDate\n",
              "0       C0003123  ...  2021-06-25T23:44:49.000Z\n",
              "1       C0003123  ...  2021-06-25T23:44:49.000Z\n",
              "2       C0003123  ...  2021-06-25T23:44:49.000Z\n",
              "3       C0003123  ...  2021-06-25T23:44:49.000Z\n",
              "4       C0003123  ...  2021-06-25T23:44:49.000Z\n",
              "...          ...  ...                       ...\n",
              "373165  C0231230  ...  2012-01-21T17:25:08.000Z\n",
              "373166  C0231230  ...  2012-01-21T17:25:08.000Z\n",
              "373167  C0231230  ...  2012-01-21T17:25:08.000Z\n",
              "373168  C0231230  ...  2012-01-21T17:25:08.000Z\n",
              "373169  C0231230  ...  2012-01-21T17:25:08.000Z\n",
              "\n",
              "[373170 rows x 5 columns]"
            ]
          },
          "metadata": {
            "tags": []
          },
          "execution_count": 7
        }
      ]
    }
  ]
}