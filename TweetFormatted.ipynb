{
  "nbformat": 4,
  "nbformat_minor": 0,
  "metadata": {
    "colab": {
      "name": "TweetFormatted.ipynb",
      "provenance": [],
      "collapsed_sections": [],
      "authorship_tag": "ABX9TyOCUs4vwgTBYU7BQbfbdj0o",
      "include_colab_link": true
    },
    "kernelspec": {
      "name": "python3",
      "display_name": "Python 3"
    },
    "language_info": {
      "name": "python"
    }
  },
  "cells": [
    {
      "cell_type": "markdown",
      "metadata": {
        "id": "view-in-github",
        "colab_type": "text"
      },
      "source": [
        "<a href=\"https://colab.research.google.com/github/Nagmashaik123/MedConcepts/blob/main/TweetFormatted.ipynb\" target=\"_parent\"><img src=\"https://colab.research.google.com/assets/colab-badge.svg\" alt=\"Open In Colab\"/></a>"
      ]
    },
    {
      "cell_type": "code",
      "metadata": {
        "colab": {
          "base_uri": "https://localhost:8080/"
        },
        "id": "GuBBolEc7lFp",
        "outputId": "4c8801ef-996f-47ec-ba20-8313aa198467"
      },
      "source": [
        "import json\n",
        "import csv\n",
        "import collections\n",
        "\n",
        "\n",
        "\n",
        "dataList = []\n",
        "def writeTweetData():\n",
        "    dyfunctionfile = open('MedicalDyfunctions.json')\n",
        "    jsonList = json.load(dyfunctionfile)\n",
        "    print(jsonList)\n",
        "    global dataList\n",
        "    fileName = 'MedicalConcepts'\n",
        "    with open('%s.csv' % (fileName), 'w') as file:\n",
        "        w = csv.writer(file)\n",
        "        w.writerow(['ID', 'Concept', 'TweetText'])\n",
        "        for jsonData in jsonList:\n",
        "            for jsonKey, jsonValues in jsonData.items():\n",
        "                dataList = jsonData['tweets']['data']\n",
        "                for data in dataList:\n",
        "                    for key, value in data.items():\n",
        "                        textData = data['text']\n",
        "                        w.writerow([jsonData['cui'], jsonData['concepts'], textData])\n",
        "\n",
        "\n",
        "writeTweetData()"
      ],
      "execution_count": 1,
      "outputs": [
        {
          "output_type": "stream",
          "text": [
            "IOPub data rate exceeded.\n",
            "The notebook server will temporarily stop sending output\n",
            "to the client in order to avoid crashing it.\n",
            "To change this limit, set the config variable\n",
            "`--NotebookApp.iopub_data_rate_limit`.\n",
            "\n",
            "Current values:\n",
            "NotebookApp.iopub_data_rate_limit=1000000.0 (bytes/sec)\n",
            "NotebookApp.rate_limit_window=3.0 (secs)\n",
            "\n"
          ],
          "name": "stderr"
        }
      ]
    },
    {
      "cell_type": "code",
      "metadata": {
        "id": "I7wMsyrb75FH",
        "colab": {
          "base_uri": "https://localhost:8080/",
          "height": 419
        },
        "outputId": "3e0ab779-b488-43b7-cff9-bd21370fdd8e"
      },
      "source": [
        "import pandas as pd\n",
        "df=pd.read_csv(r\"MedicalConcepts.csv\")\n",
        "df"
      ],
      "execution_count": 2,
      "outputs": [
        {
          "output_type": "execute_result",
          "data": {
            "text/html": [
              "<div>\n",
              "<style scoped>\n",
              "    .dataframe tbody tr th:only-of-type {\n",
              "        vertical-align: middle;\n",
              "    }\n",
              "\n",
              "    .dataframe tbody tr th {\n",
              "        vertical-align: top;\n",
              "    }\n",
              "\n",
              "    .dataframe thead th {\n",
              "        text-align: right;\n",
              "    }\n",
              "</style>\n",
              "<table border=\"1\" class=\"dataframe\">\n",
              "  <thead>\n",
              "    <tr style=\"text-align: right;\">\n",
              "      <th></th>\n",
              "      <th>ID</th>\n",
              "      <th>Concept</th>\n",
              "      <th>TweetText</th>\n",
              "    </tr>\n",
              "  </thead>\n",
              "  <tbody>\n",
              "    <tr>\n",
              "      <th>0</th>\n",
              "      <td>C0003123</td>\n",
              "      <td>Anorexia</td>\n",
              "      <td>switch the v and the r and even Instagram ads ...</td>\n",
              "    </tr>\n",
              "    <tr>\n",
              "      <th>1</th>\n",
              "      <td>C0003123</td>\n",
              "      <td>Anorexia</td>\n",
              "      <td>switch the v and the r and even Instagram ads ...</td>\n",
              "    </tr>\n",
              "    <tr>\n",
              "      <th>2</th>\n",
              "      <td>C0003123</td>\n",
              "      <td>Anorexia</td>\n",
              "      <td>switch the v and the r and even Instagram ads ...</td>\n",
              "    </tr>\n",
              "    <tr>\n",
              "      <th>3</th>\n",
              "      <td>C0003123</td>\n",
              "      <td>Anorexia</td>\n",
              "      <td>switch the v and the r and even Instagram ads ...</td>\n",
              "    </tr>\n",
              "    <tr>\n",
              "      <th>4</th>\n",
              "      <td>C0003123</td>\n",
              "      <td>Anorexia</td>\n",
              "      <td>switch the v and the r and even Instagram ads ...</td>\n",
              "    </tr>\n",
              "    <tr>\n",
              "      <th>...</th>\n",
              "      <td>...</td>\n",
              "      <td>...</td>\n",
              "      <td>...</td>\n",
              "    </tr>\n",
              "    <tr>\n",
              "      <th>373165</th>\n",
              "      <td>C0231230</td>\n",
              "      <td>Fatigability</td>\n",
              "      <td>#fatigability</td>\n",
              "    </tr>\n",
              "    <tr>\n",
              "      <th>373166</th>\n",
              "      <td>C0231230</td>\n",
              "      <td>Fatigability</td>\n",
              "      <td>#fatigability</td>\n",
              "    </tr>\n",
              "    <tr>\n",
              "      <th>373167</th>\n",
              "      <td>C0231230</td>\n",
              "      <td>Fatigability</td>\n",
              "      <td>#fatigability</td>\n",
              "    </tr>\n",
              "    <tr>\n",
              "      <th>373168</th>\n",
              "      <td>C0231230</td>\n",
              "      <td>Fatigability</td>\n",
              "      <td>#fatigability</td>\n",
              "    </tr>\n",
              "    <tr>\n",
              "      <th>373169</th>\n",
              "      <td>C0231230</td>\n",
              "      <td>Fatigability</td>\n",
              "      <td>#fatigability</td>\n",
              "    </tr>\n",
              "  </tbody>\n",
              "</table>\n",
              "<p>373170 rows × 3 columns</p>\n",
              "</div>"
            ],
            "text/plain": [
              "              ID  ...                                          TweetText\n",
              "0       C0003123  ...  switch the v and the r and even Instagram ads ...\n",
              "1       C0003123  ...  switch the v and the r and even Instagram ads ...\n",
              "2       C0003123  ...  switch the v and the r and even Instagram ads ...\n",
              "3       C0003123  ...  switch the v and the r and even Instagram ads ...\n",
              "4       C0003123  ...  switch the v and the r and even Instagram ads ...\n",
              "...          ...  ...                                                ...\n",
              "373165  C0231230  ...                                      #fatigability\n",
              "373166  C0231230  ...                                      #fatigability\n",
              "373167  C0231230  ...                                      #fatigability\n",
              "373168  C0231230  ...                                      #fatigability\n",
              "373169  C0231230  ...                                      #fatigability\n",
              "\n",
              "[373170 rows x 3 columns]"
            ]
          },
          "metadata": {
            "tags": []
          },
          "execution_count": 2
        }
      ]
    }
  ]
}