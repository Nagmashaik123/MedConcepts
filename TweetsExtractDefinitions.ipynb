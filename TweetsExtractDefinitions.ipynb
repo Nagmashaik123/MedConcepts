{
  "nbformat": 4,
  "nbformat_minor": 0,
  "metadata": {
    "colab": {
      "name": "TweetsExtractDefinitions.ipynb",
      "provenance": [],
      "authorship_tag": "ABX9TyPOsO3AxujlSrx38bvk1R74",
      "include_colab_link": true
    },
    "kernelspec": {
      "name": "python3",
      "display_name": "Python 3"
    },
    "language_info": {
      "name": "python"
    }
  },
  "cells": [
    {
      "cell_type": "markdown",
      "metadata": {
        "id": "view-in-github",
        "colab_type": "text"
      },
      "source": [
        "<a href=\"https://colab.research.google.com/github/Nagmashaik123/MedConcepts/blob/main/TweetsExtractDefinitions.ipynb\" target=\"_parent\"><img src=\"https://colab.research.google.com/assets/colab-badge.svg\" alt=\"Open In Colab\"/></a>"
      ]
    },
    {
      "cell_type": "code",
      "metadata": {
        "id": "4_FVJlbioiDZ"
      },
      "source": [
        ""
      ],
      "execution_count": null,
      "outputs": []
    },
    {
      "cell_type": "code",
      "metadata": {
        "id": "qQ_bNixkoivI"
      },
      "source": [
        "import csv\n",
        "import pandas as pd\n",
        "\n",
        "# Grouping tweets based on CUI and Concept\n",
        "df= pd.read_csv('Cleaned_tweets.csv')\n",
        "# #df=df.groupby('cui').agg({'cleanedtweets':lambda x: list(x)})\n",
        "df = df.groupby(['concepts','cui']).agg(lambda x: list(x)).reset_index('cui')\n",
        "df.to_csv('Tweets_File.csv')\n",
        "df= pd.read_csv('Tweets_File.csv')\n",
        "df = df[['cui','concepts','tweets','hashtags','cleanedtweets']]\n",
        "data= pd.read_csv('definitions_updated.csv')\n",
        "file = open('CleanedTweetsDefinitions.csv', 'w')\n",
        "# create the csv writer\n",
        "writer = csv.writer(file)\n",
        "# write a row to the csv file\n",
        "writer.writerow(['CUID', 'Concept','Definition','TweetText','HashTags','CleanedTweet'])\n",
        "\n",
        "for ind in df.index:\n",
        "   with open('definitions_updated.csv', encoding='unicode_escape') as csvF:\n",
        "       reader = csv.reader(csvF)\n",
        "       for row in reader:\n",
        "           print(row[0])\n",
        "           if df['cui'][ind] in row and not row[0] == 2220:\n",
        "               writer.writerow([df['cui'][ind], df['concepts'][ind],row[3],df['tweets'][ind],df['hashtags'][ind],df['cleanedtweets'][ind]])\n",
        "               break\n",
        "           else:\n",
        "               writer.writerow([df['cui'][ind], df['concepts'][ind],\"\",df['tweets'][ind],df['hashtags'][ind],df['cleanedtweets'][ind]])\n",
        "\n",
        "\n",
        "\n",
        "\n",
        "\n",
        "\n",
        "\n"
      ],
      "execution_count": null,
      "outputs": []
    }
  ]
}